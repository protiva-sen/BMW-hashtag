{
 "cells": [
  {
   "cell_type": "code",
   "execution_count": 1,
   "id": "d8b6d695",
   "metadata": {},
   "outputs": [
    {
     "name": "stdout",
     "output_type": "stream",
     "text": [
      "Filtered 720 unique video IDs into 'May1-10.txt'\n"
     ]
    }
   ],
   "source": [
    "# Python script to extract unique video IDs from two files\n",
    "\n",
    "# Define file paths\n",
    "file1 = \"all_unique_video_ids.txt\"\n",
    "file2 = \"all_unique_video_ids 2.txt\"\n",
    "output_file = \"May1-10.txt\"\n",
    "\n",
    "# Use a set to store unique video IDs\n",
    "unique_ids = set()\n",
    "\n",
    "# Read and collect IDs from both files\n",
    "for filename in [file1, file2]:\n",
    "    with open(filename, \"r\") as f:\n",
    "        for line in f:\n",
    "            line = line.strip()\n",
    "            if line:  # ignore empty lines\n",
    "                unique_ids.add(line)\n",
    "\n",
    "# Write unique video IDs to a new file\n",
    "with open(output_file, \"w\") as out:\n",
    "    for video_id in sorted(unique_ids):\n",
    "        out.write(video_id + \"\\n\")\n",
    "\n",
    "print(f\"Filtered {len(unique_ids)} unique video IDs into '{output_file}'\")\n"
   ]
  },
  {
   "cell_type": "code",
   "execution_count": null,
   "id": "89cb4d02",
   "metadata": {},
   "outputs": [],
   "source": [
    "def foo():\n",
    "    \"\"\"\n",
    "    This function is a placeholder and does not perform any operations.\n",
    "    It is included to demonstrate the structure of the code.\n",
    "    \"\"\"\n",
    "    pass"
   ]
  }
 ],
 "metadata": {
  "kernelspec": {
   "display_name": "Python 3 (ipykernel)",
   "language": "python",
   "name": "python3"
  },
  "language_info": {
   "codemirror_mode": {
    "name": "ipython",
    "version": 3
   },
   "file_extension": ".py",
   "mimetype": "text/x-python",
   "name": "python",
   "nbconvert_exporter": "python",
   "pygments_lexer": "ipython3",
   "version": "3.9.7"
  }
 },
 "nbformat": 4,
 "nbformat_minor": 5
}
